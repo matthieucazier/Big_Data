{
 "cells": [
  {
   "cell_type": "markdown",
   "id": "temporal-toddler",
   "metadata": {},
   "source": [
    "# Matthieu Cazier\n"
   ]
  },
  {
   "cell_type": "markdown",
   "id": "unexpected-principle",
   "metadata": {},
   "source": [
    "Vous êtes Data Scientist dans une très jeune start-up de l'AgriTech, nommée  \"Fruits!\", qui cherche à proposer des solutions innovantes pour la récolte des fruits.\n",
    "\n",
    "La volonté de l’entreprise est de préserver la biodiversité des fruits en permettant des traitements spécifiques pour chaque espèce de fruits en développant des robots cueilleurs intelligents\n",
    "\n",
    "Votre start-up souhaite dans un premier temps se faire connaître en mettant à disposition du grand public une application mobile qui permettrait aux utilisateurs de prendre en photo un fruit et d'obtenir des informations sur ce fruit.\n",
    "\n",
    "Pour la start-up, cette application permettrait de sensibiliser le grand public à la biodiversité des fruits et de mettre en place une première version du moteur de classification des images de fruits.\n",
    "\n",
    "De plus, le développement de l’application mobile permettra de construire une première version de l'architecture Big Data nécessaire\n",
    "\n",
    "Vous êtes donc chargé de développer dans un environnement Big Data une première chaîne de traitement des données qui comprendra le preprocessing et une étape de réduction de dimension"
   ]
  },
  {
   "cell_type": "markdown",
   "id": "loved-success",
   "metadata": {},
   "source": [
    "#### librairies"
   ]
  },
  {
   "cell_type": "code",
   "execution_count": 1,
   "id": "ambient-living",
   "metadata": {},
   "outputs": [],
   "source": [
    "import findspark\n",
    "findspark.init()\n",
    "\n",
    "import pyspark\n",
    "import random\n",
    "import numpy as np\n",
    "import os\n",
    "import pandas as pd\n",
    "from PIL import Image\n",
    "import matplotlib.pyplot as plt\n",
    "\n",
    "from pyspark.context import SparkContext, SparkConf\n",
    "from pyspark.sql.session import SparkSession\n",
    "from pyspark.ml.image import ImageSchema\n",
    "from pyspark import SparkContext\n",
    "from pyspark.sql import SparkSession\n",
    "from pyspark import SparkConf\n",
    "from pyspark.ml.feature import PCA\n",
    "from pyspark.ml import Pipeline\n",
    "\n",
    "\n",
    "import warnings\n",
    "warnings.filterwarnings('ignore')"
   ]
  },
  {
   "cell_type": "markdown",
   "id": "governing-reasoning",
   "metadata": {},
   "source": [
    "###### Récupérer le fichier code"
   ]
  },
  {
   "cell_type": "code",
   "execution_count": 2,
   "id": "scenic-grill",
   "metadata": {},
   "outputs": [],
   "source": [
    "with open('cle.txt','r') as b:\n",
    "        msg = b.read()\n",
    "ID= str(msg).split('\\n')[0]\n",
    "KEY= msg.split('\\n')[1]\n",
    "os.environ[\"AWS_ACCESS_KEY_ID\"]=ID\n",
    "os.environ[\"AWS_SECRET_ACCESS_KEY\"]=KEY"
   ]
  },
  {
   "cell_type": "markdown",
   "id": "regional-transportation",
   "metadata": {},
   "source": [
    "###### Configuration"
   ]
  },
  {
   "cell_type": "code",
   "execution_count": 3,
   "id": "optional-training",
   "metadata": {},
   "outputs": [],
   "source": [
    "os.environ['PYSPARK_SUBMIT_ARGS'] = '--packages com.amazonaws:aws-java-sdk-pom:1.10.34,org.apache.hadoop:hadoop-aws:2.7.2,databricks:spark-deep-learning:1.5.0-spark2.4-s_2.11 pyspark-shell'"
   ]
  },
  {
   "cell_type": "code",
   "execution_count": 4,
   "id": "advanced-pledge",
   "metadata": {},
   "outputs": [
    {
     "data": {
      "text/plain": [
       "'/home/ubuntu/anaconda3/envs/matt/bin/python'"
      ]
     },
     "execution_count": 4,
     "metadata": {},
     "output_type": "execute_result"
    }
   ],
   "source": [
    "os.environ['PYSPARK_PYTHON']"
   ]
  },
  {
   "cell_type": "code",
   "execution_count": 5,
   "id": "conceptual-radius",
   "metadata": {},
   "outputs": [
    {
     "name": "stdout",
     "output_type": "stream",
     "text": [
      "PYSPARK_PYTHON  /home/ubuntu/anaconda3/envs/matt/bin/python\n"
     ]
    }
   ],
   "source": [
    "print('PYSPARK_PYTHON ', os.environ['PYSPARK_PYTHON'])"
   ]
  },
  {
   "cell_type": "code",
   "execution_count": 6,
   "id": "transparent-comfort",
   "metadata": {},
   "outputs": [],
   "source": [
    "os.environ['PYSPARK_DRIVER_PYTHON'] = '/home/matthieu/anaconda3/envs/new/bin/python'"
   ]
  },
  {
   "cell_type": "code",
   "execution_count": 7,
   "id": "athletic-execution",
   "metadata": {},
   "outputs": [
    {
     "name": "stdout",
     "output_type": "stream",
     "text": [
      "PYSPARK_DRIVER_PYTHON  /home/matthieu/anaconda3/envs/new/bin/python\n"
     ]
    }
   ],
   "source": [
    "print('PYSPARK_DRIVER_PYTHON ', os.environ['PYSPARK_DRIVER_PYTHON'])"
   ]
  },
  {
   "cell_type": "code",
   "execution_count": 8,
   "id": "integrated-league",
   "metadata": {},
   "outputs": [],
   "source": [
    "os.environ[\"AWS_ACCESS_KEY_ID\"]=ID\n",
    "os.environ[\"AWS_SECRET_ACCESS_KEY\"]=KEY"
   ]
  },
  {
   "cell_type": "code",
   "execution_count": 9,
   "id": "faced-consequence",
   "metadata": {},
   "outputs": [],
   "source": [
    "from pyspark import SparkContext\n",
    "from pyspark.sql import SparkSession\n",
    "from pyspark import SparkConf"
   ]
  },
  {
   "cell_type": "code",
   "execution_count": 10,
   "id": "sustainable-situation",
   "metadata": {},
   "outputs": [],
   "source": [
    "conf = (SparkConf().set('spark.executor.extraJavaOptions','-Dcom.amazonaws.services.s3.enableV4=true').set('spark.driver.extraJavaOptions','-Dcom.amazonaws.services.s3.enableV4=true'))"
   ]
  },
  {
   "cell_type": "code",
   "execution_count": 11,
   "id": "periodic-toyota",
   "metadata": {},
   "outputs": [],
   "source": [
    "scT=SparkContext(conf=conf)\n",
    "scT.setSystemProperty('com.amazonaws.services.s3.enableV4', 'true')"
   ]
  },
  {
   "cell_type": "code",
   "execution_count": 12,
   "id": "quiet-ultimate",
   "metadata": {},
   "outputs": [],
   "source": [
    "hadoopConf = scT._jsc.hadoopConfiguration()\n",
    "hadoopConf.set('fs.s3a.awsAccessKeyId', ID)\n",
    "hadoopConf.set('fs.s3a.awsSecretAccessKey', KEY)\n",
    "hadoopConf.set('fs.s3a.endpoint', 's3-us-east-2.amazonaws.com')\n",
    "hadoopConf.set('com.amazonaws.services.s3a.enableV4', 'true')\n",
    "hadoopConf.set('fs.s3a.impl', 'org.apache.hadoop.fs.s3a.S3AFileSystem')"
   ]
  },
  {
   "cell_type": "code",
   "execution_count": 13,
   "id": "built-monday",
   "metadata": {},
   "outputs": [],
   "source": [
    "sql = SparkSession(scT)"
   ]
  },
  {
   "cell_type": "markdown",
   "id": "early-color",
   "metadata": {},
   "source": [
    "###### Récupérer les images depuis S3"
   ]
  },
  {
   "cell_type": "code",
   "execution_count": 14,
   "id": "naked-discretion",
   "metadata": {},
   "outputs": [],
   "source": [
    "path = 's3a://monbucketoc/Réduit/*'"
   ]
  },
  {
   "cell_type": "code",
   "execution_count": 15,
   "id": "numerous-broadcast",
   "metadata": {},
   "outputs": [],
   "source": [
    "image_df = ImageSchema.readImages(path)"
   ]
  },
  {
   "cell_type": "code",
   "execution_count": 16,
   "id": "fundamental-disposal",
   "metadata": {},
   "outputs": [
    {
     "name": "stdout",
     "output_type": "stream",
     "text": [
      "+--------------------+\n",
      "|               image|\n",
      "+--------------------+\n",
      "|[s3a://monbucketo...|\n",
      "|[s3a://monbucketo...|\n",
      "|[s3a://monbucketo...|\n",
      "|[s3a://monbucketo...|\n",
      "|[s3a://monbucketo...|\n",
      "|[s3a://monbucketo...|\n",
      "|[s3a://monbucketo...|\n",
      "|[s3a://monbucketo...|\n",
      "|[s3a://monbucketo...|\n",
      "|[s3a://monbucketo...|\n",
      "|[s3a://monbucketo...|\n",
      "|[s3a://monbucketo...|\n",
      "|[s3a://monbucketo...|\n",
      "|[s3a://monbucketo...|\n",
      "|[s3a://monbucketo...|\n",
      "+--------------------+\n",
      "\n"
     ]
    }
   ],
   "source": [
    "image_df.show()"
   ]
  },
  {
   "cell_type": "code",
   "execution_count": 17,
   "id": "hybrid-attachment",
   "metadata": {},
   "outputs": [
    {
     "name": "stdout",
     "output_type": "stream",
     "text": [
      "(100, 100, 3)\n"
     ]
    },
    {
     "data": {
      "image/png": "[encoded data removed]",
      "text/plain": [
       "<PIL.Image.Image image mode=RGB size=100x100 at 0x7FA714A0C828>"
      ]
     },
     "execution_count": 17,
     "metadata": {},
     "output_type": "execute_result"
    }
   ],
   "source": [
    "première = image_df.first()\n",
    "visu = np.array(première.asDict()['image']['data']).reshape(100,100,3)[:,:,::-1]\n",
    "print(visu.shape)\n",
    "Image.fromarray(visu, 'RGB')"
   ]
  },
  {
   "cell_type": "markdown",
   "id": "common-meter",
   "metadata": {},
   "source": [
    "###### Réduction de dimension"
   ]
  },
  {
   "cell_type": "code",
   "execution_count": 18,
   "id": "living-entertainment",
   "metadata": {},
   "outputs": [
    {
     "name": "stderr",
     "output_type": "stream",
     "text": [
      "Using TensorFlow backend.\n"
     ]
    }
   ],
   "source": [
    "from sparkdl import DeepImageFeaturizer"
   ]
  },
  {
   "cell_type": "code",
   "execution_count": 19,
   "id": "apparent-process",
   "metadata": {},
   "outputs": [],
   "source": [
    "featurizer = DeepImageFeaturizer(inputCol=\"image\", outputCol=\"image_preprocessed\", modelName=\"ResNet50\")"
   ]
  },
  {
   "cell_type": "code",
   "execution_count": 20,
   "id": "golden-greece",
   "metadata": {},
   "outputs": [],
   "source": [
    "p = Pipeline(stages=[featurizer])\n",
    "model = p.fit(image_df)    "
   ]
  },
  {
   "cell_type": "code",
   "execution_count": 21,
   "id": "accessible-heavy",
   "metadata": {},
   "outputs": [],
   "source": [
    "df = model.transform(image_df)"
   ]
  },
  {
   "cell_type": "code",
   "execution_count": 22,
   "id": "interim-stereo",
   "metadata": {},
   "outputs": [],
   "source": [
    "#df.show()"
   ]
  },
  {
   "cell_type": "markdown",
   "id": "twelve-bottle",
   "metadata": {},
   "source": [
    "#### PCA"
   ]
  },
  {
   "cell_type": "code",
   "execution_count": 23,
   "id": "devoted-movie",
   "metadata": {},
   "outputs": [
    {
     "data": {
      "text/plain": [
       "Text(0, 0.5, 'cumulative explained variance')"
      ]
     },
     "execution_count": 23,
     "metadata": {},
     "output_type": "execute_result"
    },
    {
     "data": {
      "image/png": "[encoded data removed]",
      "text/plain": [
       "<Figure size 720x576 with 1 Axes>"
      ]
     },
     "metadata": {
      "needs_background": "light"
     },
     "output_type": "display_data"
    }
   ],
   "source": [
    "df_pca = df.select('image_preprocessed')\n",
    "pca = PCA(k=8, inputCol=\"image_preprocessed\", outputCol=\"pcaFeatures\")\n",
    "model = pca.fit(df_pca)\n",
    "#print(model.explainedVariance)\n",
    "cumValues = model.explainedVariance.cumsum()\n",
    "\n",
    "plt.figure(figsize=(10,8))\n",
    "plt.plot(range(1,9), cumValues, marker = 'o', linestyle='--')\n",
    "plt.title('variance by components')\n",
    "plt.xlabel('num of components')\n",
    "plt.ylabel('cumulative explained variance')"
   ]
  },
  {
   "cell_type": "code",
   "execution_count": 24,
   "id": "fifteen-worker",
   "metadata": {},
   "outputs": [
    {
     "name": "stdout",
     "output_type": "stream",
     "text": [
      "+----------------------------------------+\n",
      "|pcaFeatures                             |\n",
      "+----------------------------------------+\n",
      "|[2.5235464652659614,-18.83287510883131] |\n",
      "|[3.9139246370409504,-17.396936195101283]|\n",
      "|[2.3482782642822255,-18.653477834483017]|\n",
      "|[2.3624141473883125,-17.026283925176642]|\n",
      "|[3.554335674967028,-18.84888138130125]  |\n",
      "|[-26.448336881253873,2.1654263907733777]|\n",
      "|[-28.059739037893355,2.4337331992586355]|\n",
      "|[-27.15372157229625,2.490231157289669]  |\n",
      "|[-26.62019286361941,1.4676170962293311] |\n",
      "|[-25.90904197816549,1.6764405607408706] |\n",
      "|[14.234741883799355,9.325318279551988]  |\n",
      "|[14.661132764807864,9.318818838534192]  |\n",
      "|[14.325419784185465,9.58713327184732]   |\n",
      "|[13.459186001101047,8.705566841982526]  |\n",
      "|[14.068618778302177,9.24333801950826]   |\n",
      "+----------------------------------------+\n",
      "\n"
     ]
    }
   ],
   "source": [
    "df_pca = df.select('image_preprocessed')\n",
    "pca = PCA(k=2, inputCol=\"image_preprocessed\", outputCol=\"pcaFeatures\")\n",
    "model = pca.fit(df_pca)\n",
    "result = model.transform(df_pca).select(\"pcaFeatures\")\n",
    "result.show(truncate=False)"
   ]
  },
  {
   "cell_type": "markdown",
   "id": "daily-position",
   "metadata": {},
   "source": [
    "#### Regarder l'organisation du df"
   ]
  },
  {
   "cell_type": "code",
   "execution_count": 25,
   "id": "adjustable-jungle",
   "metadata": {},
   "outputs": [],
   "source": [
    "#df.printSchema()"
   ]
  },
  {
   "cell_type": "code",
   "execution_count": 26,
   "id": "handled-absence",
   "metadata": {},
   "outputs": [],
   "source": [
    "#df.show()"
   ]
  },
  {
   "cell_type": "markdown",
   "id": "driven-factory",
   "metadata": {},
   "source": [
    "###### Récupérer le chemin des images"
   ]
  },
  {
   "cell_type": "code",
   "execution_count": 27,
   "id": "valid-commerce",
   "metadata": {},
   "outputs": [],
   "source": [
    "df = df.select('image.origin','image_preprocessed')"
   ]
  },
  {
   "cell_type": "code",
   "execution_count": 28,
   "id": "catholic-semiconductor",
   "metadata": {},
   "outputs": [],
   "source": [
    "#df.show()"
   ]
  },
  {
   "cell_type": "markdown",
   "id": "welsh-roads",
   "metadata": {},
   "source": [
    "###### obtenir la catégorie"
   ]
  },
  {
   "cell_type": "code",
   "execution_count": 29,
   "id": "skilled-attachment",
   "metadata": {},
   "outputs": [],
   "source": [
    "split_col = pyspark.sql.functions.split(df['origin'], 'Réduit/')    ## changer Réduit par Training ou Test (pour les autres)\n",
    "df = df.withColumn('labels', split_col.getItem(1))"
   ]
  },
  {
   "cell_type": "code",
   "execution_count": 30,
   "id": "subject-dynamics",
   "metadata": {},
   "outputs": [],
   "source": [
    "split_col = pyspark.sql.functions.split(df['labels'], '/')\n",
    "df = df.withColumn('labels', split_col.getItem(0))"
   ]
  },
  {
   "cell_type": "code",
   "execution_count": 31,
   "id": "massive-workstation",
   "metadata": {},
   "outputs": [],
   "source": [
    "#df.show()"
   ]
  },
  {
   "cell_type": "markdown",
   "id": "quick-specification",
   "metadata": {},
   "source": [
    "###### Mettre dans l'ordre"
   ]
  },
  {
   "cell_type": "code",
   "execution_count": 32,
   "id": "global-belle",
   "metadata": {},
   "outputs": [],
   "source": [
    "df = df.withColumnRenamed(\"origin\", \"path\")"
   ]
  },
  {
   "cell_type": "code",
   "execution_count": 33,
   "id": "mineral-budapest",
   "metadata": {},
   "outputs": [],
   "source": [
    "df = df.select('path','labels','image_preprocessed')"
   ]
  },
  {
   "cell_type": "code",
   "execution_count": 35,
   "id": "emerging-cologne",
   "metadata": {},
   "outputs": [
    {
     "name": "stdout",
     "output_type": "stream",
     "text": [
      "+--------------------+---------+--------------------+\n",
      "|                path|   labels|  image_preprocessed|\n",
      "+--------------------+---------+--------------------+\n",
      "|s3a://monbucketoc...|  Avocado|[0.75997018814086...|\n",
      "|s3a://monbucketoc...|  Avocado|[0.49009233713150...|\n",
      "|s3a://monbucketoc...|  Avocado|[0.72865718603134...|\n",
      "|s3a://monbucketoc...|  Avocado|[0.51640260219573...|\n",
      "|s3a://monbucketoc...|  Avocado|[0.48175674676895...|\n",
      "|s3a://monbucketoc...|   Banana|[0.87978106737136...|\n",
      "|s3a://monbucketoc...|   Banana|[0.81136143207550...|\n",
      "|s3a://monbucketoc...|   Banana|[0.88818049430847...|\n",
      "|s3a://monbucketoc...|   Banana|[0.60697412490844...|\n",
      "|s3a://monbucketoc...|   Banana|[0.73288387060165...|\n",
      "|s3a://monbucketoc...|Blueberry|[0.23815652728080...|\n",
      "|s3a://monbucketoc...|Blueberry|[0.12992787361145...|\n",
      "|s3a://monbucketoc...|Blueberry|[0.19024115800857...|\n",
      "|s3a://monbucketoc...|Blueberry|[0.11426852643489...|\n",
      "|s3a://monbucketoc...|Blueberry|[0.13309282064437...|\n",
      "+--------------------+---------+--------------------+\n",
      "\n"
     ]
    }
   ],
   "source": [
    "df.show()"
   ]
  },
  {
   "cell_type": "markdown",
   "id": "linear-montreal",
   "metadata": {},
   "source": [
    "#### Enregistre le df en format parquet directement sur S3"
   ]
  },
  {
   "cell_type": "code",
   "execution_count": 69,
   "id": "hollywood-polymer",
   "metadata": {},
   "outputs": [],
   "source": [
    "df.write.parquet(\"s3a://monbucketoc/dataframe\")"
   ]
  },
  {
   "cell_type": "code",
   "execution_count": null,
   "id": "anticipated-deficit",
   "metadata": {},
   "outputs": [],
   "source": [
    "### test avec de plus de données\n",
    "### memoire au drivers"
   ]
  }
 ],
 "metadata": {
  "kernelspec": {
   "display_name": "Python 3",
   "language": "python",
   "name": "python3"
  },
  "language_info": {
   "codemirror_mode": {
    "name": "ipython",
    "version": 3
   },
   "file_extension": ".py",
   "mimetype": "text/x-python",
   "name": "python",
   "nbconvert_exporter": "python",
   "pygments_lexer": "ipython3",
   "version": "3.6.5"
  }
 },
 "nbformat": 4,
 "nbformat_minor": 5
}
